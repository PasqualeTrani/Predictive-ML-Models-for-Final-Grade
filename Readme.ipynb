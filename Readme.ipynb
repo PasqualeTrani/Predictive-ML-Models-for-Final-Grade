{
 "cells": [
  {
   "cell_type": "markdown",
   "id": "9a49bf36",
   "metadata": {},
   "source": [
    "The goal of the following work is to train some machine learning models in order to predict the final portuguese grade of students attending two schools in Portugal. In the portuguese scholar system the grades are between 0 and 20, following this hierarchy (https://en.wikipedia.org/wiki/Academic_grading_in_Portugal): <br>\n",
    "\n",
    "|   Grade\t|   Qualification\t|  \n",
    "|---\t|---\t|\n",
    "|  20-17.5 \t|   Excellent\t|  \n",
    "|   17.4-15.5\t\t|   Very good\t|   \t\n",
    "|   15.4-13.5\t|   Good\t|  \n",
    "|   13.4-9.5\t\t|   Sufficient\t| \n",
    "|   9.4-3.5\t\t|   Weak\t| \n",
    "|   3.4-0\t\t|   Poor\t| \n",
    "\n",
    "Furthermore the school year is divided into three parts, and in the end of all of them the students reiceve a grade. In the used dataset (https://www.kaggle.com/datasets/uciml/student-alcohol-consumption) all of the three grades are reported, but we only focused on the final grade, i.e. G3. <br> <br>\n",
    "The work is organized as follows: <br>\n",
    "1) First of all an exploratory data analysis (EDA) of the considered dataset is provided. In particular, the EDA is mainly focused on the label, namely the final portuguese grade (G3), but other insights from the data are also took into account. <br><br>\n",
    "2) Second of all the machine learning models are trained on an appropriately training set. All the considered models have one or more hyperparameters, which are tuned thanks to a cross validation procedure. In specific, the machine learning models which have been considered are: <br>\n",
    "* `K-Nearest Neighbors (KNN)` <br>\n",
    "* `Decision Tree (DT)` <br>\n",
    "* `Lasso Regression (Lasso)` <br>\n",
    "* `Support Vector Regressor (SVR)` <br>\n",
    "* `Random Forest (RF)` <br><br> \n",
    "\n",
    "3) After that, the trained models are tested on the test set and the best models are choosen. The latter results to be `Support Vector Regressor (SVR)` and `Random Forest (RF)`. Then a plot containing the real values and the predicted values is made, and the latter furnishes us an insight concerning the builded machine learning models. After that an analysis on the distribution of the errors commited by the two models is made, and the latter provides us a discriminant to choose between one of the two models. Lastly, a plot containing the most 'predictive' features is provided. <br><br>\n",
    "\n",
    "Here there is a prospectus of all the features into the dataset: <br>\n",
    "\n",
    "|   Variable name\t|   Variable description\t|   Type\t|   Values\t|\n",
    "|---\t|---\t|---\t|---\t|\n",
    "|   school\t|  student's school \t|  categorical \t|   'GP' - Gabriel Pereira  <br>'MS' - Mousinho da Silveira\t|\n",
    "|   sex \t|   student's sex\t|   categorical\t|   'F' - female  '<br> M' - male\t|\n",
    "|   age\t|   student's age\t|   integer\t|  from 15 to 22 \t|\n",
    "|  address \t|   student's home address type\t|   categorical\t|   'U' - urban <br> 'R' - rural\t|\n",
    "|   famsize\t|   family size\t|   categorical\t|  'LE3' - less or equal to 3 <br> 'GT3' - greater than 3 \t|\n",
    "|   Pstatus\t|   parent's cohabitation status\t|  categorical \t|  'T' - living together <br> 'A' - apart \t|\n",
    "|   Medu\t|   mother's education\t|  integer \t| 0 - none <br> 1 - primary education (4th grade) <br> 2 – 5th to 9th grade <br> 3 – secondary education  <br> 4 – higher education  \t|\n",
    "|   Fedu\t|   father's education\t|   integer\t| 0 - none <br> 1 - primary education (4th grade) <br> 2 – 5th to 9th grade <br> 3 – secondary education  <br> 4 – higher education  |\n",
    "|   Mjob\t|   mother's job\t|   categorical\t|  'teacher' <br> 'health' care related <br>civil 'services' (e.g. administrative or police) <br> 'at_home' or 'other')\t|\n",
    "|   Fjob\t|   father's job\t|   categorical\t|   'teacher' <br> 'health' care related <br>civil 'services' (e.g. administrative or police) <br> 'at_home' or 'other')\t\t|\n",
    "|   reason\t|   reason to choose this school\t|   categorical\t|   close to 'home' <br> school 'reputation' <br> 'course' preference <br> 'other'\t|\n",
    "|  guardian \t|   student's guardian\t|  categorical \t|   'mother' <br>'father' <br> 'other'\t|\n",
    "|   traveltime\t|   home to school travel time\t|   integer\t|   1 - <15 min. <br> 2 - 15 to 30 min. <br> 3 - 30 min. to 1 hour <br> 4 - >1 hour\t|\n",
    "|  studytime \t|  weekly study time \t|   integer\t|   1 - <2 hours <br> 2 - 2 to 5 hours <br> 3 - 5 to 10 hours <br> 4 - >10 hours\t|\n",
    "|   failures\t|  number of past class failures \t|  integer \t|   n if 1<=n<3, else 4\t|\n",
    "|  schoolsup \t|   extra educational support\t|   categorical\t|  yes or no \t|\n",
    "|   famsup\t|   family educational support\t|    categorical\t|   yes or no\t|\n",
    "|   paid\t|   extra paid classes within the course subject (Math or Portuguese) \t|   categorical \t|   yes or no\t|\n",
    "|   activities\t|   extra-curricular activities\t|    categorical\t|   yes or no\t|\n",
    "|   nursery\t|  attended nursery school \t|    categorical\t| yes or no  \t|\n",
    "|   higher \t|  wants to take higher education \t|   categorical \t|   yes or no\t|\n",
    "|   internet\t|   Internet access at home\t|    categorical\t|   yes or no\t|\n",
    "|   romantic\t|   with a romantic relationship\t|   categorical \t|   yes or no\t|\n",
    "|   famrel\t|   quality of family relationships\t|   integer\t|   from 1 - very bad to 5 - excellent\t|\n",
    "|   freetime\t|   free time after school\t|   integer\t|   from 1 - very low to 5 - very high\t|\n",
    "|   goout\t|   going out with friends\t|   integer\t|   from 1 - very low to 5 - very high\t|\n",
    "|   Dalc\t|   workday alcohol consumption\t|   integer\t|   from 1 - very low to 5 - very high\t|\n",
    "|   Walc\t|   weekend alcohol consumption\t|   integer\t|   from 1 - very low to 5 - very high\t|\n",
    "|   health\t|  current health status \t|   integer\t|   from 1 - very bad to 5 - very good\t|\n",
    "|   absences\t|   number of school absences\t|   integer\t|   from 0 to 93\t|\n"
   ]
  },
  {
   "cell_type": "code",
   "execution_count": null,
   "id": "0d06c5ac",
   "metadata": {},
   "outputs": [],
   "source": []
  }
 ],
 "metadata": {
  "kernelspec": {
   "display_name": "Python 3 (ipykernel)",
   "language": "python",
   "name": "python3"
  },
  "language_info": {
   "codemirror_mode": {
    "name": "ipython",
    "version": 3
   },
   "file_extension": ".py",
   "mimetype": "text/x-python",
   "name": "python",
   "nbconvert_exporter": "python",
   "pygments_lexer": "ipython3",
   "version": "3.9.7"
  }
 },
 "nbformat": 4,
 "nbformat_minor": 5
}
